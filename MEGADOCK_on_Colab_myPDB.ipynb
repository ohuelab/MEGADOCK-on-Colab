{
  "nbformat": 4,
  "nbformat_minor": 0,
  "metadata": {
    "colab": {
      "provenance": []
    },
    "kernelspec": {
      "name": "python3",
      "display_name": "Python 3"
    },
    "language_info": {
      "name": "python"
    },
    "accelerator": "GPU"
  },
  "cells": [
    {
      "cell_type": "markdown",
      "source": [
        "# MEGADOCK on Google Colaboratory (PDB files upload version)\n",
        "**Protein-protein docking with MEGADOCK on Google Colaboratory**  \n",
        "MEGADOCKによるタンパク質間ドッキングをGoogle Colaboratoryで実行する\n",
        "\n",
        "> 💻 MEGADOCK 4   https://github.com/akiyamalab/MEGADOCK  \n",
        "> 📃 Ohue M, _et al_. **_Bioinformatics_**, 30(22): 3281-3283, 2014. http://doi.org/10.1093/bioinformatics/btu532  \n",
        "> License: MEGADOCK is licensed by CC BY-NC 4.0. MEGADOCK and its derivatives are NOT allowed for any commercial use without formal prior authorization by Tokyo Institute of Technology.\n",
        "\n",
        "**Hit `Runtime` → `Run all`, then please upload your PDB files**  \n",
        "`ランタイム` → `すべてのセルを実行` をクリックしてから、出てきた `ファイル選択` からPDBファイルをアップロードしてください。\n",
        "\n",
        "Note: mmCIF files (.cif) are not supported. mmCIF files must be converted to PDB format (.pdb) by the converter.\n",
        "https://mmcif.pdbj.org/converter/index.php?l=en  \n",
        "注意: mmCIFファイル (.cif) には対応していません。mmCIFファイルを用いる場合は変換サービスでPDBファイル (.pdb) に変換してください。 https://mmcif.pdbj.org/converter/index.php?l=ja\n"
      ],
      "metadata": {
        "id": "Gpw-uO7-wLeW"
      }
    },
    {
      "cell_type": "code",
      "source": [
        "from google.colab import files\n",
        "#@markdown **Receptor PDB** (`-R`)\n",
        "print(\"upload receptor PDB file (.pdb)\")\n",
        "rup = files.upload()\n",
        "rfilename = list(rup.keys())[0]"
      ],
      "metadata": {
        "id": "XBeso3ddT8Wm",
        "cellView": "form",
        "collapsed": true
      },
      "execution_count": null,
      "outputs": []
    },
    {
      "cell_type": "code",
      "source": [
        "#@markdown **Ligand PDB** (`-L`)\n",
        "print(\"upload ligand PDB files (.pdb)\")\n",
        "lup = files.upload()\n",
        "lfilename = list(lup.keys())[0]"
      ],
      "metadata": {
        "cellView": "form",
        "id": "RL4TpyYjdKtA",
        "collapsed": true
      },
      "execution_count": null,
      "outputs": []
    },
    {
      "cell_type": "code",
      "source": [
        "#@markdown MEGADOCK parameters (if you want to change)\n",
        "t = \"3\" #@param {type:\"string\"}\n",
        "#D = 0 #@param {type:\"string\"}\n",
        "N = \"10800\" #@param {type:\"string\"}\n",
        "outfile_name = \"dock.out\" #@param {type:\"string\"}"
      ],
      "metadata": {
        "cellView": "form",
        "id": "cEZzvIU7dMlO"
      },
      "execution_count": 3,
      "outputs": []
    },
    {
      "cell_type": "code",
      "source": [
        "#@title Check GPU (nvidia-smi)\n",
        "!nvidia-smi"
      ],
      "metadata": {
        "id": "eXJ9VpvywTIc",
        "cellView": "form"
      },
      "execution_count": null,
      "outputs": []
    },
    {
      "cell_type": "code",
      "source": [
        "#@title Software Installation\n",
        "\n",
        "# MEGADOCK\n",
        "!git clone https://github.com/akiyamalab/MEGADOCK\n",
        "!git clone https://github.com/NVIDIA/cuda-samples\n",
        "!apt-get install -y libfftw3-dev libfftw3-single3\n",
        "\n",
        "%cd ./MEGADOCK\n",
        "!make -j 2 -f Makefile.colab\n",
        "\n",
        "# biopython\n",
        "!pip -q install biopython\n",
        "\n",
        "# NGLView\n",
        "!pip -q install nglview"
      ],
      "metadata": {
        "id": "YEzqywuGwS-m",
        "cellView": "form"
      },
      "execution_count": null,
      "outputs": []
    },
    {
      "cell_type": "code",
      "source": [
        "#@title MEGADOCK parameter setting\n",
        "import os\n",
        "os.environ['MDt'] = str(t)\n",
        "os.environ['MDN'] = str(N)\n",
        "os.environ['MDPDBR'] = rfilename\n",
        "os.environ['MDPDBL'] = lfilename\n",
        "os.environ['MDOF'] = str(outfile_name)\n",
        "\n",
        "!bash -c \"mv /content/$MDPDBR .\"\n",
        "!bash -c \"mv /content/$MDPDBL .\""
      ],
      "metadata": {
        "id": "8uzzRBQ-OCuz",
        "cellView": "form"
      },
      "execution_count": null,
      "outputs": []
    },
    {
      "cell_type": "code",
      "source": [
        "#@title Run MEGADOCK\n",
        "!./megadock-gpu -R $MDPDBR -L $MDPDBL -t $MDt -N $MDN -o $MDOF"
      ],
      "metadata": {
        "id": "whubIIABpdKC",
        "cellView": "form",
        "collapsed": true
      },
      "execution_count": null,
      "outputs": []
    },
    {
      "cell_type": "code",
      "source": [
        "#@title Show the 1st solution on PDB viewer (NGLView)\n",
        "!./decoygen lig.1.pdb $MDPDBL $MDOF 1\n",
        "!cat $MDPDBR lig.1.pdb | sed 's/END//g' > complex1.pdb\n",
        "from google.colab import output\n",
        "output.enable_custom_widget_manager()\n",
        "import nglview as nv\n",
        "view = nv.show_structure_file(\"complex1.pdb\")\n",
        "view"
      ],
      "metadata": {
        "id": "LCDqpEpqp2nF",
        "cellView": "form",
        "collapsed": true
      },
      "execution_count": null,
      "outputs": []
    },
    {
      "cell_type": "code",
      "source": [
        "#@title Show the top 5 solutions on PDB viewer (NGLView)\n",
        "!./decoygen lig.2.pdb $MDPDBL $MDOF 2\n",
        "!./decoygen lig.3.pdb $MDPDBL $MDOF 3\n",
        "!./decoygen lig.4.pdb $MDPDBL $MDOF 4\n",
        "!./decoygen lig.5.pdb $MDPDBL $MDOF 5\n",
        "!cat complex1.pdb lig.2.pdb lig.3.pdb lig.4.pdb lig.5.pdb | sed 's/END//g' > complex5s.pdb\n",
        "from google.colab import output\n",
        "output.enable_custom_widget_manager()\n",
        "import nglview as nv\n",
        "view = nv.show_structure_file(\"complex5s.pdb\")\n",
        "view"
      ],
      "metadata": {
        "cellView": "form",
        "id": "Df5gxfyVA1fb"
      },
      "execution_count": null,
      "outputs": []
    },
    {
      "cell_type": "code",
      "source": [
        "#@title PPI score calculation (for protein-protein interaction prediction)\n",
        "!./ppiscore $MDOF $MDN"
      ],
      "metadata": {
        "cellView": "form",
        "id": "ika2PlFjN3Vs"
      },
      "execution_count": null,
      "outputs": []
    },
    {
      "cell_type": "markdown",
      "source": [
        "The value of the PPI Score (the value of $E$ in the above cell) can predict whether two protein chains will interact or not.  \n",
        "The approximate values of precision (positive predictive value, PPV) and PPI Score are shown in the Figure below.  \n",
        "* The precision is about 10% when $E > 8$ is predicted as \"PPI positive.\"\n",
        "* The precision is about 50% when $E > 10$ is predicted as \"PPI positive.\"\n",
        "* The precision is about 80% when $E > 12$ is predicted as \"PPI positive.\"\n",
        "\n",
        "PPI Scoreの値（上のセルの $E$ の値）で2つのタンパク質鎖が相互作用するかどうかを予測することができます。  \n",
        "適合率 (precision, 陽性的中率) とPPI Scoreの目安は以下の図に示されるような値となります。  \n",
        "*   $E > 8$ を「PPI有り」と予測した場合のprecisionは約10%\n",
        "*   $E > 10$ を「PPI有り」と予測した場合のprecisionは約50%\n",
        "*   $E > 12$ を「PPI有り」と予測した場合のprecisionは約80%\n",
        "\n",
        "\n",
        "![](http://drive.google.com/uc?export=view&id=1aVl9yRh-E4HXtn6AQ1fjrMb0M7Nx-wxH)\n",
        "(from Ohue M, _et al_. _Jikkenigaku_, 37(9):1469, 2019.)"
      ],
      "metadata": {
        "id": "5rMlfoubOzXQ"
      }
    }
  ]
}